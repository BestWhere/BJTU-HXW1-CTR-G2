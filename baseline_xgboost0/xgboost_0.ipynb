{
 "cells": [
  {
   "cell_type": "code",
   "execution_count": 1,
   "metadata": {},
   "outputs": [],
   "source": [
    "import pandas as pd\n",
    "import xgboost as xgb\n",
    "import numpy as np\n",
    "from pandas.core.frame import DataFrame"
   ]
  },
  {
   "cell_type": "code",
   "execution_count": 2,
   "metadata": {},
   "outputs": [],
   "source": [
    "#用pandas读入数据\n",
    "#记得改路径\n",
    "# train_data_ads = pd.read_csv('../dataset/train.csv')\n",
    "# train_data_feeds = pd.read_csv('../dataset/train_feeds.csv')\n",
    "\n",
    "# test_data_ads = pd.read_csv('../dataset/final_test.csv')\n",
    "# test_data_feeds = pd.read_csv('../dataset/test_feeds.csv')\n",
    "\n",
    "train_data = pd.read_csv('../dataset/train.csv')\n",
    "train_feed = pd.read_csv('../dataset/train_feeds.csv')\n",
    "test_data = pd.read_csv('../dataset/final_test.csv')\n",
    "test_feed = pd.read_csv('../dataset/test_feeds.csv')"
   ]
  },
  {
   "cell_type": "code",
   "execution_count": 3,
   "metadata": {},
   "outputs": [],
   "source": [
    "# 自然数编码(重新进行编码)---->准确说是统计矩阵型数据种类\n",
    "def label_encode(series):\n",
    "    unique = list(series.unique())\n",
    "    return series.map(dict(zip(unique, range(series.nunique()))))\n",
    "\n",
    "for col in ['ad_click_list_v001','ad_click_list_v002','ad_click_list_v003','ad_close_list_v001','ad_close_list_v002','ad_close_list_v003','u_newsCatInterestsST']:\n",
    "    train_data.loc[:,col]= label_encode(train_data.loc[:,col])\n",
    "    \n",
    "for col in ['u_newsCatInterests','u_newsCatDislike','u_newsCatInterestsST','u_click_ca2_news']:\n",
    "    train_feed.loc[:,col]= label_encode(train_feed.loc[:,col])\n",
    "\n",
    "for col in ['ad_click_list_v001','ad_click_list_v002','ad_click_list_v003','ad_close_list_v001','ad_close_list_v002','ad_close_list_v003','u_newsCatInterestsST']:\n",
    "    test_data.loc[:,col]= label_encode(test_data.loc[:,col])\n",
    "    \n",
    "for col in ['u_newsCatInterests','u_newsCatDislike','u_newsCatInterestsST','u_click_ca2_news']:\n",
    "    test_feed.loc[:,col]= label_encode(test_feed.loc[:,col])"
   ]
  },
  {
   "cell_type": "code",
   "execution_count": 4,
   "metadata": {},
   "outputs": [
    {
     "name": "stderr",
     "output_type": "stream",
     "text": [
      "C:\\Users\\76678\\AppData\\Local\\Temp\\ipykernel_14928\\10440150.py:21: FutureWarning: DataFrame.fillna with 'method' is deprecated and will raise in a future version. Use obj.ffill() or obj.bfill() instead.\n",
      "  train_data = train_data.sort_values(by='e_et').sort_values(by='u_userId').fillna(method='pad')\n",
      "C:\\Users\\76678\\AppData\\Local\\Temp\\ipykernel_14928\\10440150.py:22: FutureWarning: DataFrame.fillna with 'method' is deprecated and will raise in a future version. Use obj.ffill() or obj.bfill() instead.\n",
      "  train_feed = train_feed.sort_values(by='e_et').sort_values(by='u_userId').fillna(method='pad')\n",
      "C:\\Users\\76678\\AppData\\Local\\Temp\\ipykernel_14928\\10440150.py:23: FutureWarning: DataFrame.fillna with 'method' is deprecated and will raise in a future version. Use obj.ffill() or obj.bfill() instead.\n",
      "  test_data = test_data.sort_values(by='e_et').sort_values(by='u_userId').fillna(method='pad')\n",
      "C:\\Users\\76678\\AppData\\Local\\Temp\\ipykernel_14928\\10440150.py:24: FutureWarning: DataFrame.fillna with 'method' is deprecated and will raise in a future version. Use obj.ffill() or obj.bfill() instead.\n",
      "  test_feed = test_feed.sort_values(by='e_et').sort_values(by='u_userId').fillna(method='pad')\n"
     ]
    }
   ],
   "source": [
    "#数据缺失处理（不具有穿越特征)\n",
    "train_feed = train_feed.drop(columns=['label','i_docId','i_s_sourceId','i_entities'])\n",
    "test_feed = test_feed.drop(columns=['i_docId','i_s_sourceId','i_entities'])\n",
    "\n",
    "train_data.rename(columns={'pt_d': 'e_et','user_id':'u_userId'}, inplace=True)\n",
    "test_data.rename(columns={'pt_d': 'e_et','user_id':'u_userId'}, inplace=True)\n",
    "\n",
    "train_data=train_data.dropna(subset='e_et')\n",
    "train_feed=train_feed.dropna(subset='e_et')\n",
    "test_data=test_data.dropna(subset='e_et')\n",
    "test_feed=test_feed.dropna(subset='e_et')\n",
    "\n",
    "train_feed = train_feed.drop_duplicates(keep='last', subset=['u_userId', 'e_et'])\n",
    "test_feed = test_feed.drop_duplicates(keep='last', subset=['u_userId', 'e_et'])\n",
    "\n",
    "train_data['e_et']=train_data['e_et'].astype(int)\n",
    "train_feed['e_et']=train_feed['e_et'].astype(int)\n",
    "test_data['e_et']=test_data['e_et'].astype(int)\n",
    "test_feed['e_et']=test_feed['e_et'].astype(int)\n",
    "\n",
    "train_data = train_data.sort_values(by='e_et').sort_values(by='u_userId').fillna(method='pad')\n",
    "train_feed = train_feed.sort_values(by='e_et').sort_values(by='u_userId').fillna(method='pad')\n",
    "test_data = test_data.sort_values(by='e_et').sort_values(by='u_userId').fillna(method='pad')\n",
    "test_feed = test_feed.sort_values(by='e_et').sort_values(by='u_userId').fillna(method='pad')\n",
    "\n",
    "train_data = train_data.merge(train_feed,on=['u_userId','e_et'] ,how='left',sort=False)\n",
    "test_data = test_data.merge(test_feed,on=['u_userId','e_et'] ,how='left',sort=False)\n",
    "\n",
    "test_data = test_data.drop(columns=['label'])"
   ]
  },
  {
   "cell_type": "code",
   "execution_count": 5,
   "metadata": {},
   "outputs": [],
   "source": [
    "# 转换成Dmatrix格式\n",
    "feature_data_columns = [f for f in train_data.columns if f not in ['log_id','u_userId','e_et','label']]\n",
    "feature_test_columns = [f for f in test_data.columns if f not in ['log_id','u_userId','e_et','label']]\n",
    "target_column = 'label'\n",
    "xgtrain = xgb.DMatrix(train_data[feature_data_columns].values, train_data[target_column].values)\n",
    "xgtest = xgb.DMatrix(test_data[feature_test_columns].values)"
   ]
  },
  {
   "cell_type": "code",
   "execution_count": 7,
   "metadata": {},
   "outputs": [
    {
     "name": "stdout",
     "output_type": "stream",
     "text": [
      "[0]\ttrain-mlogloss:0.12701\n",
      "[1]\ttrain-mlogloss:0.06400\n",
      "[2]\ttrain-mlogloss:0.04970\n",
      "[3]\ttrain-mlogloss:0.04691\n",
      "[4]\ttrain-mlogloss:0.04613\n",
      "[5]\ttrain-mlogloss:0.04598\n",
      "[6]\ttrain-mlogloss:0.04565\n",
      "[7]\ttrain-mlogloss:0.04540\n",
      "[8]\ttrain-mlogloss:0.04527\n",
      "[9]\ttrain-mlogloss:0.04520\n",
      "[10]\ttrain-mlogloss:0.04505\n"
     ]
    },
    {
     "ename": "KeyboardInterrupt",
     "evalue": "",
     "output_type": "error",
     "traceback": [
      "\u001b[1;31m---------------------------------------------------------------------------\u001b[0m",
      "\u001b[1;31mKeyboardInterrupt\u001b[0m                         Traceback (most recent call last)",
      "\u001b[1;32md:\\机器学习\\大作业\\baseline_xgboost0\\xgboost_0.ipynb 单元格 6\u001b[0m line \u001b[0;36m2\n\u001b[0;32m     <a href='vscode-notebook-cell:/d%3A/%E6%9C%BA%E5%99%A8%E5%AD%A6%E4%B9%A0/%E5%A4%A7%E4%BD%9C%E4%B8%9A/baseline_xgboost0/xgboost_0.ipynb#W5sZmlsZQ%3D%3D?line=22'>23</a>\u001b[0m watchlist  \u001b[39m=\u001b[39m [(xgtrain,\u001b[39m'\u001b[39m\u001b[39mtrain\u001b[39m\u001b[39m'\u001b[39m)]\n\u001b[0;32m     <a href='vscode-notebook-cell:/d%3A/%E6%9C%BA%E5%99%A8%E5%AD%A6%E4%B9%A0/%E5%A4%A7%E4%BD%9C%E4%B8%9A/baseline_xgboost0/xgboost_0.ipynb#W5sZmlsZQ%3D%3D?line=23'>24</a>\u001b[0m num_round \u001b[39m=\u001b[39m \u001b[39m20\u001b[39m\n\u001b[1;32m---> <a href='vscode-notebook-cell:/d%3A/%E6%9C%BA%E5%99%A8%E5%AD%A6%E4%B9%A0/%E5%A4%A7%E4%BD%9C%E4%B8%9A/baseline_xgboost0/xgboost_0.ipynb#W5sZmlsZQ%3D%3D?line=24'>25</a>\u001b[0m bst \u001b[39m=\u001b[39m xgb\u001b[39m.\u001b[39;49mtrain(param, xgtrain, num_round, watchlist)\n",
      "File \u001b[1;32m~\\AppData\\Roaming\\Python\\Python310\\site-packages\\xgboost\\core.py:620\u001b[0m, in \u001b[0;36mrequire_keyword_args.<locals>.throw_if.<locals>.inner_f\u001b[1;34m(*args, **kwargs)\u001b[0m\n\u001b[0;32m    618\u001b[0m \u001b[39mfor\u001b[39;00m k, arg \u001b[39min\u001b[39;00m \u001b[39mzip\u001b[39m(sig\u001b[39m.\u001b[39mparameters, args):\n\u001b[0;32m    619\u001b[0m     kwargs[k] \u001b[39m=\u001b[39m arg\n\u001b[1;32m--> 620\u001b[0m \u001b[39mreturn\u001b[39;00m func(\u001b[39m*\u001b[39m\u001b[39m*\u001b[39mkwargs)\n",
      "File \u001b[1;32m~\\AppData\\Roaming\\Python\\Python310\\site-packages\\xgboost\\training.py:185\u001b[0m, in \u001b[0;36mtrain\u001b[1;34m(params, dtrain, num_boost_round, evals, obj, feval, maximize, early_stopping_rounds, evals_result, verbose_eval, xgb_model, callbacks, custom_metric)\u001b[0m\n\u001b[0;32m    183\u001b[0m \u001b[39mif\u001b[39;00m cb_container\u001b[39m.\u001b[39mbefore_iteration(bst, i, dtrain, evals):\n\u001b[0;32m    184\u001b[0m     \u001b[39mbreak\u001b[39;00m\n\u001b[1;32m--> 185\u001b[0m bst\u001b[39m.\u001b[39;49mupdate(dtrain, i, obj)\n\u001b[0;32m    186\u001b[0m \u001b[39mif\u001b[39;00m cb_container\u001b[39m.\u001b[39mafter_iteration(bst, i, dtrain, evals):\n\u001b[0;32m    187\u001b[0m     \u001b[39mbreak\u001b[39;00m\n",
      "File \u001b[1;32m~\\AppData\\Roaming\\Python\\Python310\\site-packages\\xgboost\\core.py:1918\u001b[0m, in \u001b[0;36mBooster.update\u001b[1;34m(self, dtrain, iteration, fobj)\u001b[0m\n\u001b[0;32m   1915\u001b[0m \u001b[39mself\u001b[39m\u001b[39m.\u001b[39m_validate_dmatrix_features(dtrain)\n\u001b[0;32m   1917\u001b[0m \u001b[39mif\u001b[39;00m fobj \u001b[39mis\u001b[39;00m \u001b[39mNone\u001b[39;00m:\n\u001b[1;32m-> 1918\u001b[0m     _check_call(_LIB\u001b[39m.\u001b[39;49mXGBoosterUpdateOneIter(\u001b[39mself\u001b[39;49m\u001b[39m.\u001b[39;49mhandle,\n\u001b[0;32m   1919\u001b[0m                                             ctypes\u001b[39m.\u001b[39;49mc_int(iteration),\n\u001b[0;32m   1920\u001b[0m                                             dtrain\u001b[39m.\u001b[39;49mhandle))\n\u001b[0;32m   1921\u001b[0m \u001b[39melse\u001b[39;00m:\n\u001b[0;32m   1922\u001b[0m     pred \u001b[39m=\u001b[39m \u001b[39mself\u001b[39m\u001b[39m.\u001b[39mpredict(dtrain, output_margin\u001b[39m=\u001b[39m\u001b[39mTrue\u001b[39;00m, training\u001b[39m=\u001b[39m\u001b[39mTrue\u001b[39;00m)\n",
      "\u001b[1;31mKeyboardInterrupt\u001b[0m: "
     ]
    }
   ],
   "source": [
    "#超参数设定\n",
    "#警告暂时不用管\n",
    "#最佳成绩：0.707721\n",
    "# # gpu版本\n",
    "# param = {'max_depth':6,\n",
    "#          'eta':1.1,\n",
    "#          'verbosity':0,\n",
    "#          'subsample':1,\n",
    "#          'colsample_bytree':0.7,\n",
    "#          'objective':'multi:softprob',\n",
    "#          'num_class':2,\n",
    "#          'tree_method':'gpu_hist'}\n",
    "\n",
    "# cpu版本\n",
    "param = {'max_depth':10,\n",
    "         'eta':0.1,\n",
    "         'verbosity':0,\n",
    "         'subsample':1,\n",
    "         'colsample_bytree':0.7,\n",
    "         'objective':'multi:softprob',\n",
    "         'num_class':2\n",
    "         }\n",
    "#设定watchlist用于查看模型状态\n",
    "watchlist  = [(xgtrain,'train')]\n",
    "num_round = 20\n",
    "bst = xgb.train(param, xgtrain, num_round, watchlist)"
   ]
  },
  {
   "cell_type": "code",
   "execution_count": null,
   "metadata": {},
   "outputs": [],
   "source": [
    "#输出\n",
    "test_pred = pred = bst.predict(xgtest)[:, 1]\n",
    "df = {'pctr': test_pred}\n",
    "df = DataFrame(df)\n",
    "df = df.reset_index()\n",
    "df.columns = ['id', 'pctr']\n",
    "df.to_csv('./submission.csv', index=False)\n",
    "\n",
    "# pred = bst.predict(xgtest)\n",
    "# test_data['pctr'] = pred[:,1]\n",
    "# test_data[['log_id', 'pctr']].to_csv('submission.csv',index=None)"
   ]
  }
 ],
 "metadata": {
  "kernelspec": {
   "display_name": "base",
   "language": "python",
   "name": "python3"
  },
  "language_info": {
   "codemirror_mode": {
    "name": "ipython",
    "version": 3
   },
   "file_extension": ".py",
   "mimetype": "text/x-python",
   "name": "python",
   "nbconvert_exporter": "python",
   "pygments_lexer": "ipython3",
   "version": "3.10.13"
  }
 },
 "nbformat": 4,
 "nbformat_minor": 2
}
